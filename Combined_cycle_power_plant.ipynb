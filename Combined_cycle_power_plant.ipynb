{
  "nbformat": 4,
  "nbformat_minor": 0,
  "metadata": {
    "colab": {
      "name": "Combined cycle power plant",
      "provenance": [],
      "collapsed_sections": [],
      "toc_visible": true,
      "include_colab_link": true
    },
    "kernelspec": {
      "name": "python3",
      "display_name": "Python 3"
    }
  },
  "cells": [
    {
      "cell_type": "markdown",
      "metadata": {
        "id": "view-in-github",
        "colab_type": "text"
      },
      "source": [
        "<a href=\"https://colab.research.google.com/github/Shlok1810/predict_the_electrical_energy_output_of_a_Combined_Cycle_Power_Plant/blob/main/Combined_cycle_power_plant.ipynb\" target=\"_parent\"><img src=\"https://colab.research.google.com/assets/colab-badge.svg\" alt=\"Open In Colab\"/></a>"
      ]
    },
    {
      "cell_type": "markdown",
      "metadata": {
        "id": "3cbb7fRy-eyr"
      },
      "source": [
        "# Artificial Neural Network"
      ]
    },
    {
      "cell_type": "markdown",
      "metadata": {
        "id": "8sNDnxE2-pwE"
      },
      "source": [
        "### Importing the libraries"
      ]
    },
    {
      "cell_type": "code",
      "metadata": {
        "id": "z1N620oqTzen"
      },
      "source": [
        "import numpy as np\n",
        "import pandas as pd\n",
        "import tensorflow as tf"
      ],
      "execution_count": 8,
      "outputs": []
    },
    {
      "cell_type": "code",
      "metadata": {
        "colab": {
          "base_uri": "https://localhost:8080/",
          "height": 35
        },
        "id": "Fj3Tc0xDT78k",
        "outputId": "c290ca79-8f91-4eb4-ea2e-e4c1a4c1d29e"
      },
      "source": [
        "tf.__version__"
      ],
      "execution_count": 9,
      "outputs": [
        {
          "output_type": "execute_result",
          "data": {
            "application/vnd.google.colaboratory.intrinsic+json": {
              "type": "string"
            },
            "text/plain": [
              "'2.4.1'"
            ]
          },
          "metadata": {
            "tags": []
          },
          "execution_count": 9
        }
      ]
    },
    {
      "cell_type": "markdown",
      "metadata": {
        "id": "AG3FQEch-yuA"
      },
      "source": [
        "## Part 1 - Data Preprocessing"
      ]
    },
    {
      "cell_type": "markdown",
      "metadata": {
        "id": "-4zq8Mza_D9O"
      },
      "source": [
        "### Importing the dataset"
      ]
    },
    {
      "cell_type": "code",
      "metadata": {
        "id": "P6TlsFJnZ-qa"
      },
      "source": [
        "dataset = pd.read_excel('Folds5x2_pp.xlsx')\n",
        "X = dataset.iloc[:, :-1].values\n",
        "y = dataset.iloc[:, -1].values"
      ],
      "execution_count": 10,
      "outputs": []
    },
    {
      "cell_type": "code",
      "metadata": {
        "colab": {
          "base_uri": "https://localhost:8080/"
        },
        "id": "m9wmft2YaXLR",
        "outputId": "b2da3806-d820-4961-d926-6407a66cdb07"
      },
      "source": [
        "print(X)"
      ],
      "execution_count": 11,
      "outputs": [
        {
          "output_type": "stream",
          "text": [
            "[[  14.96   41.76 1024.07   73.17]\n",
            " [  25.18   62.96 1020.04   59.08]\n",
            " [   5.11   39.4  1012.16   92.14]\n",
            " ...\n",
            " [  31.32   74.33 1012.92   36.48]\n",
            " [  24.48   69.45 1013.86   62.39]\n",
            " [  21.6    62.52 1017.23   67.87]]\n"
          ],
          "name": "stdout"
        }
      ]
    },
    {
      "cell_type": "code",
      "metadata": {
        "colab": {
          "base_uri": "https://localhost:8080/"
        },
        "id": "bFnzxTUTacsO",
        "outputId": "c6506a9a-84ba-4bce-9ddc-f43780920219"
      },
      "source": [
        "print(y)"
      ],
      "execution_count": 12,
      "outputs": [
        {
          "output_type": "stream",
          "text": [
            "[463.26 444.37 488.56 ... 429.57 435.74 453.28]\n"
          ],
          "name": "stdout"
        }
      ]
    },
    {
      "cell_type": "markdown",
      "metadata": {
        "id": "VC6omXel_Up0"
      },
      "source": [
        "### Splitting the dataset into the Training set and Test set"
      ]
    },
    {
      "cell_type": "code",
      "metadata": {
        "id": "N8thCIrNabQL"
      },
      "source": [
        "from sklearn.model_selection import train_test_split\n",
        "X_train, X_test, y_train, y_test = train_test_split(X, y, test_size = 0.2, random_state = 0)"
      ],
      "execution_count": 13,
      "outputs": []
    },
    {
      "cell_type": "markdown",
      "metadata": {
        "id": "_mSLlAT9_eyI"
      },
      "source": [
        "## Part 2 - Building the ANN"
      ]
    },
    {
      "cell_type": "markdown",
      "metadata": {
        "id": "CsBULd_f_wLY"
      },
      "source": [
        "### Initializing the ANN"
      ]
    },
    {
      "cell_type": "code",
      "metadata": {
        "id": "xBheBvwNamMD"
      },
      "source": [
        "ann = tf.keras.models.Sequential()"
      ],
      "execution_count": 14,
      "outputs": []
    },
    {
      "cell_type": "markdown",
      "metadata": {
        "id": "iitAFJS_ABUn"
      },
      "source": [
        "### Adding the input layer and the first hidden layer"
      ]
    },
    {
      "cell_type": "code",
      "metadata": {
        "id": "Kav0ra3_auRv"
      },
      "source": [
        "ann.add(tf.keras.layers.Dense(units=6, activation='relu'))"
      ],
      "execution_count": 15,
      "outputs": []
    },
    {
      "cell_type": "markdown",
      "metadata": {
        "id": "-lb4kK_wAKbs"
      },
      "source": [
        "### Adding the second hidden layer"
      ]
    },
    {
      "cell_type": "code",
      "metadata": {
        "id": "3aLb0oZfbEEu"
      },
      "source": [
        "ann.add(tf.keras.layers.Dense(units=6, activation='relu'))"
      ],
      "execution_count": 16,
      "outputs": []
    },
    {
      "cell_type": "markdown",
      "metadata": {
        "id": "jwMOmKb3AdBY"
      },
      "source": [
        "### Adding the output layer"
      ]
    },
    {
      "cell_type": "code",
      "metadata": {
        "id": "3YW60bzxbGdl"
      },
      "source": [
        "ann.add(tf.keras.layers.Dense(units=1))"
      ],
      "execution_count": 17,
      "outputs": []
    },
    {
      "cell_type": "markdown",
      "metadata": {
        "id": "fq7e4fF6A1yy"
      },
      "source": [
        "## Part 3 - Training the ANN"
      ]
    },
    {
      "cell_type": "markdown",
      "metadata": {
        "id": "qDeylAs2An25"
      },
      "source": [
        "### Compiling the ANN"
      ]
    },
    {
      "cell_type": "code",
      "metadata": {
        "id": "9-CIGR1oeBos"
      },
      "source": [
        "ann.compile(optimizer='adam', loss='mean_squared_error')"
      ],
      "execution_count": 18,
      "outputs": []
    },
    {
      "cell_type": "markdown",
      "metadata": {
        "id": "YjVuiybYOo7r"
      },
      "source": [
        "### Training the ANN model on the Training set"
      ]
    },
    {
      "cell_type": "code",
      "metadata": {
        "colab": {
          "base_uri": "https://localhost:8080/"
        },
        "id": "u6mE5zP_eT3v",
        "outputId": "3a8bcf8f-9afc-4348-8c4e-c547edaa127c"
      },
      "source": [
        "ann.fit(X_train, y_train, batch_size=32, epochs=100)"
      ],
      "execution_count": 19,
      "outputs": [
        {
          "output_type": "stream",
          "text": [
            "Epoch 1/100\n",
            "240/240 [==============================] - 1s 938us/step - loss: 115874.8517\n",
            "Epoch 2/100\n",
            "240/240 [==============================] - 0s 1ms/step - loss: 244.7759\n",
            "Epoch 3/100\n",
            "240/240 [==============================] - 0s 917us/step - loss: 233.0260\n",
            "Epoch 4/100\n",
            "240/240 [==============================] - 0s 955us/step - loss: 213.3647\n",
            "Epoch 5/100\n",
            "240/240 [==============================] - 0s 990us/step - loss: 212.2358\n",
            "Epoch 6/100\n",
            "240/240 [==============================] - 0s 977us/step - loss: 194.9282\n",
            "Epoch 7/100\n",
            "240/240 [==============================] - 0s 944us/step - loss: 178.2472\n",
            "Epoch 8/100\n",
            "240/240 [==============================] - 0s 950us/step - loss: 160.5664\n",
            "Epoch 9/100\n",
            "240/240 [==============================] - 0s 953us/step - loss: 142.2721\n",
            "Epoch 10/100\n",
            "240/240 [==============================] - 0s 1ms/step - loss: 121.4501\n",
            "Epoch 11/100\n",
            "240/240 [==============================] - 0s 1000us/step - loss: 102.2561\n",
            "Epoch 12/100\n",
            "240/240 [==============================] - 0s 928us/step - loss: 85.7194\n",
            "Epoch 13/100\n",
            "240/240 [==============================] - 0s 921us/step - loss: 69.2699\n",
            "Epoch 14/100\n",
            "240/240 [==============================] - 0s 897us/step - loss: 57.6911\n",
            "Epoch 15/100\n",
            "240/240 [==============================] - 0s 964us/step - loss: 47.1026\n",
            "Epoch 16/100\n",
            "240/240 [==============================] - 0s 943us/step - loss: 41.0890\n",
            "Epoch 17/100\n",
            "240/240 [==============================] - 0s 951us/step - loss: 36.8662\n",
            "Epoch 18/100\n",
            "240/240 [==============================] - 0s 911us/step - loss: 35.1494\n",
            "Epoch 19/100\n",
            "240/240 [==============================] - 0s 938us/step - loss: 34.3723\n",
            "Epoch 20/100\n",
            "240/240 [==============================] - 0s 921us/step - loss: 32.8560\n",
            "Epoch 21/100\n",
            "240/240 [==============================] - 0s 899us/step - loss: 33.1217\n",
            "Epoch 22/100\n",
            "240/240 [==============================] - 0s 915us/step - loss: 33.1069\n",
            "Epoch 23/100\n",
            "240/240 [==============================] - 0s 965us/step - loss: 32.3217\n",
            "Epoch 24/100\n",
            "240/240 [==============================] - 0s 959us/step - loss: 31.9383\n",
            "Epoch 25/100\n",
            "240/240 [==============================] - 0s 920us/step - loss: 32.2531\n",
            "Epoch 26/100\n",
            "240/240 [==============================] - 0s 922us/step - loss: 31.0911\n",
            "Epoch 27/100\n",
            "240/240 [==============================] - 0s 985us/step - loss: 30.8297\n",
            "Epoch 28/100\n",
            "240/240 [==============================] - 0s 989us/step - loss: 31.1820\n",
            "Epoch 29/100\n",
            "240/240 [==============================] - 0s 944us/step - loss: 31.3230\n",
            "Epoch 30/100\n",
            "240/240 [==============================] - 0s 927us/step - loss: 31.5202\n",
            "Epoch 31/100\n",
            "240/240 [==============================] - 0s 968us/step - loss: 29.4856\n",
            "Epoch 32/100\n",
            "240/240 [==============================] - 0s 957us/step - loss: 31.5153\n",
            "Epoch 33/100\n",
            "240/240 [==============================] - 0s 955us/step - loss: 30.8948\n",
            "Epoch 34/100\n",
            "240/240 [==============================] - 0s 973us/step - loss: 29.6611\n",
            "Epoch 35/100\n",
            "240/240 [==============================] - 0s 1ms/step - loss: 29.8116\n",
            "Epoch 36/100\n",
            "240/240 [==============================] - 0s 994us/step - loss: 29.4732\n",
            "Epoch 37/100\n",
            "240/240 [==============================] - 0s 919us/step - loss: 29.8233\n",
            "Epoch 38/100\n",
            "240/240 [==============================] - 0s 922us/step - loss: 31.5309\n",
            "Epoch 39/100\n",
            "240/240 [==============================] - 0s 912us/step - loss: 28.1178\n",
            "Epoch 40/100\n",
            "240/240 [==============================] - 0s 946us/step - loss: 27.4055\n",
            "Epoch 41/100\n",
            "240/240 [==============================] - 0s 944us/step - loss: 29.7274\n",
            "Epoch 42/100\n",
            "240/240 [==============================] - 0s 942us/step - loss: 27.5095\n",
            "Epoch 43/100\n",
            "240/240 [==============================] - 0s 1ms/step - loss: 26.2542\n",
            "Epoch 44/100\n",
            "240/240 [==============================] - 0s 908us/step - loss: 28.1457\n",
            "Epoch 45/100\n",
            "240/240 [==============================] - 0s 972us/step - loss: 28.0832\n",
            "Epoch 46/100\n",
            "240/240 [==============================] - 0s 919us/step - loss: 29.8249\n",
            "Epoch 47/100\n",
            "240/240 [==============================] - 0s 928us/step - loss: 29.5940\n",
            "Epoch 48/100\n",
            "240/240 [==============================] - 0s 997us/step - loss: 27.0576\n",
            "Epoch 49/100\n",
            "240/240 [==============================] - 0s 970us/step - loss: 28.9351\n",
            "Epoch 50/100\n",
            "240/240 [==============================] - 0s 959us/step - loss: 27.5607\n",
            "Epoch 51/100\n",
            "240/240 [==============================] - 0s 977us/step - loss: 26.3452\n",
            "Epoch 52/100\n",
            "240/240 [==============================] - 0s 948us/step - loss: 28.8925\n",
            "Epoch 53/100\n",
            "240/240 [==============================] - 0s 955us/step - loss: 27.2647\n",
            "Epoch 54/100\n",
            "240/240 [==============================] - 0s 949us/step - loss: 29.8438\n",
            "Epoch 55/100\n",
            "240/240 [==============================] - 0s 955us/step - loss: 28.9265\n",
            "Epoch 56/100\n",
            "240/240 [==============================] - 0s 951us/step - loss: 27.7734\n",
            "Epoch 57/100\n",
            "240/240 [==============================] - 0s 947us/step - loss: 28.3787\n",
            "Epoch 58/100\n",
            "240/240 [==============================] - 0s 967us/step - loss: 28.7566\n",
            "Epoch 59/100\n",
            "240/240 [==============================] - 0s 923us/step - loss: 28.4479\n",
            "Epoch 60/100\n",
            "240/240 [==============================] - 0s 957us/step - loss: 26.6526\n",
            "Epoch 61/100\n",
            "240/240 [==============================] - 0s 959us/step - loss: 29.2546\n",
            "Epoch 62/100\n",
            "240/240 [==============================] - 0s 951us/step - loss: 26.0454\n",
            "Epoch 63/100\n",
            "240/240 [==============================] - 0s 927us/step - loss: 27.3448\n",
            "Epoch 64/100\n",
            "240/240 [==============================] - 0s 938us/step - loss: 26.9698\n",
            "Epoch 65/100\n",
            "240/240 [==============================] - 0s 941us/step - loss: 28.3008\n",
            "Epoch 66/100\n",
            "240/240 [==============================] - 0s 934us/step - loss: 26.4558\n",
            "Epoch 67/100\n",
            "240/240 [==============================] - 0s 997us/step - loss: 28.7064\n",
            "Epoch 68/100\n",
            "240/240 [==============================] - 0s 948us/step - loss: 28.1192\n",
            "Epoch 69/100\n",
            "240/240 [==============================] - 0s 917us/step - loss: 28.3183\n",
            "Epoch 70/100\n",
            "240/240 [==============================] - 0s 942us/step - loss: 27.2686\n",
            "Epoch 71/100\n",
            "240/240 [==============================] - 0s 977us/step - loss: 30.4515\n",
            "Epoch 72/100\n",
            "240/240 [==============================] - 0s 948us/step - loss: 30.2033\n",
            "Epoch 73/100\n",
            "240/240 [==============================] - 0s 1ms/step - loss: 27.6621\n",
            "Epoch 74/100\n",
            "240/240 [==============================] - 0s 1ms/step - loss: 28.5745\n",
            "Epoch 75/100\n",
            "240/240 [==============================] - 0s 1ms/step - loss: 27.9241\n",
            "Epoch 76/100\n",
            "240/240 [==============================] - 0s 1ms/step - loss: 28.6024\n",
            "Epoch 77/100\n",
            "240/240 [==============================] - 0s 988us/step - loss: 28.3651\n",
            "Epoch 78/100\n",
            "240/240 [==============================] - 0s 974us/step - loss: 27.9907\n",
            "Epoch 79/100\n",
            "240/240 [==============================] - 0s 960us/step - loss: 28.4177\n",
            "Epoch 80/100\n",
            "240/240 [==============================] - 0s 967us/step - loss: 27.8320\n",
            "Epoch 81/100\n",
            "240/240 [==============================] - 0s 957us/step - loss: 27.7481\n",
            "Epoch 82/100\n",
            "240/240 [==============================] - 0s 1ms/step - loss: 27.7089\n",
            "Epoch 83/100\n",
            "240/240 [==============================] - 0s 1ms/step - loss: 27.1178\n",
            "Epoch 84/100\n",
            "240/240 [==============================] - 0s 982us/step - loss: 28.1701\n",
            "Epoch 85/100\n",
            "240/240 [==============================] - 0s 971us/step - loss: 27.2567\n",
            "Epoch 86/100\n",
            "240/240 [==============================] - 0s 976us/step - loss: 29.8408\n",
            "Epoch 87/100\n",
            "240/240 [==============================] - 0s 948us/step - loss: 28.9891\n",
            "Epoch 88/100\n",
            "240/240 [==============================] - 0s 1ms/step - loss: 27.9128\n",
            "Epoch 89/100\n",
            "240/240 [==============================] - 0s 936us/step - loss: 27.6224\n",
            "Epoch 90/100\n",
            "240/240 [==============================] - 0s 956us/step - loss: 27.6766\n",
            "Epoch 91/100\n",
            "240/240 [==============================] - 0s 991us/step - loss: 28.5808\n",
            "Epoch 92/100\n",
            "240/240 [==============================] - 0s 978us/step - loss: 27.2859\n",
            "Epoch 93/100\n",
            "240/240 [==============================] - 0s 963us/step - loss: 27.7737\n",
            "Epoch 94/100\n",
            "240/240 [==============================] - 0s 924us/step - loss: 28.0946\n",
            "Epoch 95/100\n",
            "240/240 [==============================] - 0s 926us/step - loss: 27.5419\n",
            "Epoch 96/100\n",
            "240/240 [==============================] - 0s 982us/step - loss: 28.1506\n",
            "Epoch 97/100\n",
            "240/240 [==============================] - 0s 994us/step - loss: 27.4625\n",
            "Epoch 98/100\n",
            "240/240 [==============================] - 0s 927us/step - loss: 27.8991\n",
            "Epoch 99/100\n",
            "240/240 [==============================] - 0s 930us/step - loss: 27.3946\n",
            "Epoch 100/100\n",
            "240/240 [==============================] - 0s 935us/step - loss: 26.5607\n"
          ],
          "name": "stdout"
        },
        {
          "output_type": "execute_result",
          "data": {
            "text/plain": [
              "<tensorflow.python.keras.callbacks.History at 0x7f8c15198290>"
            ]
          },
          "metadata": {
            "tags": []
          },
          "execution_count": 19
        }
      ]
    },
    {
      "cell_type": "markdown",
      "metadata": {
        "id": "0H0zKKNEBLD5"
      },
      "source": [
        "### Predicting the results of the Test set"
      ]
    },
    {
      "cell_type": "code",
      "metadata": {
        "colab": {
          "base_uri": "https://localhost:8080/"
        },
        "id": "DoU9nYTNepW5",
        "outputId": "d92c90f2-5c2a-4718-9af8-f350b97adaff"
      },
      "source": [
        "y_pred = ann.predict(X_test)\n",
        "np.set_printoptions(precision=2)\n",
        "print(np.concatenate((y_pred.reshape(len(y_pred),1), y_test.reshape(len(y_test),1)),1))\n"
      ],
      "execution_count": 20,
      "outputs": [
        {
          "output_type": "stream",
          "text": [
            "[[431.31 431.23]\n",
            " [462.38 460.01]\n",
            " [465.92 461.14]\n",
            " ...\n",
            " [473.1  473.26]\n",
            " [439.93 438.  ]\n",
            " [459.11 463.28]]\n"
          ],
          "name": "stdout"
        }
      ]
    }
  ]
}